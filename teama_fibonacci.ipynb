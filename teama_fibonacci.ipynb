{
 "cells": [
  {
   "cell_type": "markdown",
   "id": "31a65de7",
   "metadata": {},
   "source": [
    "1. Write a program that will: a. Ask for a word or sentence b. Reverse it and put it in all lowercase  c.Ask for another word or sentence "
   ]
  },
  {
   "cell_type": "code",
   "execution_count": 10,
   "id": "2cb73f5d",
   "metadata": {},
   "outputs": [
    {
     "name": "stdout",
     "output_type": "stream",
     "text": [
      "Reversed and lowercased:  erem 2 sera ana\n",
      "Type 'quit' to exit or enter a new word of sentance.\n",
      " \n",
      "Exiting the program.\n"
     ]
    }
   ],
   "source": [
    "while True:\n",
    "    info = input(\" Input a word or sentence to reverse and lowerchase: \")\n",
    "    if info.lower() == 'quit':\n",
    "        print(\"Exiting the program.\")\n",
    "        break\n",
    "###info1 = info[::-1].lower()\n",
    "    print(\"Reversed and lowercased: \", info[::-1].lower())\n",
    "    print(\"Type 'quit' to exit or enter a new word of sentance.\")\n",
    "    print (\" \")\n"
   ]
  },
  {
   "cell_type": "markdown",
   "id": "ccee7f57",
   "metadata": {},
   "source": [
    "2. Write a program that will save only those numbers between 100 and 500 whose all digits are even (e.g. 200, 242 etc.)- The obtained numbers should be printed in a comma-separated sequence"
   ]
  },
  {
   "cell_type": "code",
   "execution_count": 23,
   "id": "e768c0f7",
   "metadata": {},
   "outputs": [
    {
     "name": "stdout",
     "output_type": "stream",
     "text": [
      "Numbers between 100 and 500 with all even digits:\n",
      "[200, 202, 204, 206, 208, 220, 222, 224, 226, 228, 240, 242, 244, 246, 248, 260, 262, 264, 266, 268, 280, 282, 284, 286, 288, 400, 402, 404, 406, 408, 420, 422, 424, 426, 428, 440, 442, 444, 446, 448, 460, 462, 464, 466, 468, 480, 482, 484, 486, 488]\n"
     ]
    }
   ],
   "source": [
    "even_digit_numbers = []\n",
    "\n",
    "for num in range(100, 501):  # include 500\n",
    "    digits = str(num)\n",
    "    if all(int(digit) % 2 == 0 for digit in digits):\n",
    "        even_digit_numbers.append(num)\n",
    "\n",
    "print(\"Numbers between 100 and 500 with all even digits:\")\n",
    "print(even_digit_numbers)"
   ]
  },
  {
   "cell_type": "markdown",
   "id": "eb8cb1b6",
   "metadata": {},
   "source": [
    "3. Write a program that will: a. Ask for an integer n b. Calculate the sum of all numbers, from 1 to the given number c. Print all the number up to n10 (i.e. n¹, n², n³ ... n10) d. Print the number of digits the number n10 has e. Get the Fibonacci sequence up to n4 Fibonacci numbers: 0, 1, 1, 2, 3, 5, 8, 13, 21, 34..."
   ]
  },
  {
   "cell_type": "code",
   "execution_count": null,
   "id": "773ee121",
   "metadata": {},
   "outputs": [],
   "source": [
    "# a. Ask for an integer n\n",
    "n = int(input(\"Enter an integer n: \"))\n",
    "\n",
    "# b. Calculate the sum of all numbers from 1 to n\n",
    "sum_to_n = sum(range(1, n + 1))\n",
    "print(f\"\\nSum of numbers from 1 to {n} is: {sum_to_n}\")\n",
    "\n",
    "# c. Print n¹ to n¹⁰\n",
    "print(f\"\\nPowers of {n} from n¹ to n¹⁰:\")\n",
    "for i in range(1, 11):\n",
    "    power = n ** i\n",
    "    print(f\"{n}^{i} = {power}\")\n",
    "\n",
    "# d. Print the number of digits in n¹⁰\n",
    "n10 = n ** 10\n",
    "digit_count = len(str(n10))\n",
    "print(f\"\\nNumber of digits in {n}^10 is: {digit_count}\")\n",
    "\n",
    "# e. Get the Fibonacci sequence up to n⁴ terms\n",
    "fib_terms = n ** 4\n",
    "print(f\"\\nFibonacci sequence up to {n}^4 ({fib_terms}) terms:\")\n",
    "fib_sequence = []\n",
    "a, b = 0, 1\n",
    "for _ in range(fib_terms):\n",
    "    fib_sequence.append(a)\n",
    "    a, b = b, a + b\n",
    "\n",
    "print(fib_sequence)\n"
   ]
  },
  {
   "cell_type": "code",
   "execution_count": 4,
   "id": "6667c27d",
   "metadata": {},
   "outputs": [
    {
     "name": "stdout",
     "output_type": "stream",
     "text": [
      "The sum from 1 to 10 is 55\n",
      "Powers of 10 from 10 ^1 to  10 ^10:\n",
      "10 ^ 1 =  10\n",
      "10 ^ 2 =  100\n",
      "10 ^ 3 =  1000\n",
      "10 ^ 4 =  10000\n",
      "10 ^ 5 =  100000\n",
      "10 ^ 6 =  1000000\n",
      "10 ^ 7 =  10000000\n",
      "10 ^ 8 =  100000000\n",
      "10 ^ 9 =  1000000000\n",
      "10 ^ 10 =  10000000000\n",
      "The number of digits in 10 ^10 is: 11\n",
      "[0, 1, 1, 2, 3, 5, 8, 13, 21, 34, 55, 89, 144, 233, 377, 610, 987, 1597, 2584, 4181, 6765]\n"
     ]
    }
   ],
   "source": [
    "n= int(input(\"Enter a intiger number: \"))\n",
    "sum_n = (n * (n + 1)) // 2\n",
    "print(\"The sum from 1 to\", n, \"is\", sum_n)\n",
    "# print(\"The sum from 1 to\", n, \"is\", sum(range(1, n + 1)))\n",
    "\n",
    "print (\"Powers of\", n, \"from\", n ,\"^1 to \",n ,\"^10:\")\n",
    "for i in range(1, 11):\n",
    "    power = n ** i\n",
    "    print(n,\"^\",i ,\"= \" ,power ,)\n",
    "print(\"The number of digits in\", n, \"^10 is:\", len(str(n ** 10)))\n",
    "\n",
    "fib_terms = n ** 4\n",
    "# print(\"Fibonacci sequence up to\", n, \"^4 (\", fib_terms, \") terms\")\n",
    "fib_sequence = []\n",
    "a, b = 0, 1\n",
    "for _ in range(fib_terms):\n",
    "    if a >= n ** 4:\n",
    "        break\n",
    "    fib_sequence.append(a)\n",
    "    a, b = b, a + b\n",
    "print(fib_sequence)"
   ]
  }
 ],
 "metadata": {
  "kernelspec": {
   "display_name": "Python 3",
   "language": "python",
   "name": "python3"
  },
  "language_info": {
   "codemirror_mode": {
    "name": "ipython",
    "version": 3
   },
   "file_extension": ".py",
   "mimetype": "text/x-python",
   "name": "python",
   "nbconvert_exporter": "python",
   "pygments_lexer": "ipython3",
   "version": "3.13.5"
  }
 },
 "nbformat": 4,
 "nbformat_minor": 5
}
