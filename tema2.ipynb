{
 "cells": [
  {
   "cell_type": "markdown",
   "id": "31a65de7",
   "metadata": {},
   "source": [
    "1. Write a program that will: a. Ask for a word or sentence b. Reverse it and put it in all lowercase  c.Ask for another word or sentence "
   ]
  },
  {
   "cell_type": "code",
   "execution_count": null,
   "id": "2cb73f5d",
   "metadata": {},
   "outputs": [],
   "source": [
    "info = input(\" Input a word or sentence to reverse and lowerchase: \")"
   ]
  }
 ],
 "metadata": {
  "kernelspec": {
   "display_name": "Python 3",
   "language": "python",
   "name": "python3"
  },
  "language_info": {
   "codemirror_mode": {
    "name": "ipython",
    "version": 3
   },
   "file_extension": ".py",
   "mimetype": "text/x-python",
   "name": "python",
   "nbconvert_exporter": "python",
   "pygments_lexer": "ipython3",
   "version": "3.13.5"
  }
 },
 "nbformat": 4,
 "nbformat_minor": 5
}
