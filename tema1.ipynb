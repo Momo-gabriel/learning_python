{
 "cells": [
  {
   "cell_type": "markdown",
   "id": "3c0d60d2",
   "metadata": {},
   "source": [
    "tema\n",
    "Have the following tuples: my_tuple_1 = (1, 2, 3, “a”, “b”, 10, “5”) and my_tuple_2 = (7, 5, “b”, “5”, 3). Do the following:\n",
    "  Print all the elements from both sets\n",
    "Print all the elements from the 1st set, that are not part of the 2nd\n",
    "Print all the elements from the 2nd set, that are not part of the 1st\n",
    "Get the common elements, unpack them in variables and print them\n",
    "Add the two tuples and print the total number of duplicates\n",
    "Print all the elements from both sets that are NOT common\n",
    "Add an element of your choice to the my_tuple_2 and print the tuple\n",
    "\n"
   ]
  },
  {
   "cell_type": "code",
   "execution_count": 2,
   "id": "eaec7299",
   "metadata": {},
   "outputs": [
    {
     "name": "stdout",
     "output_type": "stream",
     "text": [
      "(1, 2, 3, 1)\n"
     ]
    }
   ],
   "source": [
    "tup =  (1, 2, 3)\n",
    "tup = tup + (1,)\n",
    "\n",
    "print (tup)\n"
   ]
  }
 ],
 "metadata": {
  "kernelspec": {
   "display_name": "Python 3",
   "language": "python",
   "name": "python3"
  },
  "language_info": {
   "codemirror_mode": {
    "name": "ipython",
    "version": 3
   },
   "file_extension": ".py",
   "mimetype": "text/x-python",
   "name": "python",
   "nbconvert_exporter": "python",
   "pygments_lexer": "ipython3",
   "version": "3.13.5"
  }
 },
 "nbformat": 4,
 "nbformat_minor": 5
}
