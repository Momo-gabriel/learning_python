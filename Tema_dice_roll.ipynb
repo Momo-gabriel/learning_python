{
 "cells": [
  {
   "cell_type": "markdown",
   "metadata": {
    "id": "vOoLo_uFikBq"
   },
   "source": [
    "Write a program that will:\n",
    " Ask for an integer\n",
    " Print if the number is odd or even\n",
    "Print if the number is bigger or equal to\n",
    "10 Print if the number is multiple of 5 or not\n",
    "Check if the number is between 1 and 7. If it is, print what day of the week is that (e.g. ‘1’ is Monday)\n"
   ]
  },
  {
   "cell_type": "code",
   "execution_count": null,
   "metadata": {
    "colab": {
     "base_uri": "https://localhost:8080/"
    },
    "executionInfo": {
     "elapsed": 6571,
     "status": "ok",
     "timestamp": 1752662788959,
     "user": {
      "displayName": "Gabriel",
      "userId": "00716935472048653558"
     },
     "user_tz": -180
    },
    "id": "K3fEfyBBjPU5",
    "outputId": "6d7a5797-8ca2-4a7e-8a7c-566150949059"
   },
   "outputs": [],
   "source": [
    "numar = int(input(\"Introduceti un numar: \"))\n",
    "# numar = int(numar)\n",
    "if numar / 2 == int():   #if numar % 2 == 0  #de ce 0 si de ce procent\n",
    "    print(\"even\")\n",
    "else:\n",
    "    print(\"odd\")\n",
    "if numar >= 10:\n",
    "    print(\"The number is bigger or equal to 10\")\n",
    "if numar % 5 == int():\n",
    "    print(\"The number is multiple of 5\")\n",
    "else:\n",
    "    print(\"The number is not multiple of 5\")\n",
    "if numar >= 1 and numar <= 7:\n",
    "    if numar == 1:\n",
    "        print(\"Monday\")\n",
    "    elif numar == 2:\n",
    "        print(\"Tuesday\")\n",
    "    elif numar == 3:\n",
    "        print(\"Wednesday\")\n",
    "    elif numar == 4:\n",
    "        print(\"Thursday\")\n",
    "    elif numar == 5:\n",
    "        print(\"Friday\")\n",
    "    elif numar == 6:\n",
    "        print(\"Saturday\")\n",
    "    elif numar == 7:\n",
    "        print(\"Sunday\")\n"
   ]
  },
  {
   "cell_type": "markdown",
   "metadata": {
    "id": "PuQrW0I_ktMw"
   },
   "source": [
    "A student should have attended a minimum of 75% of the courses in both English and Math. Do the following:\n",
    "Ask for the number of classes of each English and Math\n",
    " Ask for the number of classes he attended of both English and Math\n",
    " Print which course has a greater attendance\n",
    "Print the percentage of classes he attended for each of these fields\n",
    " Print if the overall percentage is greater than 75%\n"
   ]
  },
  {
   "cell_type": "code",
   "execution_count": null,
   "metadata": {
    "colab": {
     "base_uri": "https://localhost:8080/"
    },
    "executionInfo": {
     "elapsed": 4624,
     "status": "ok",
     "timestamp": 1752662079314,
     "user": {
      "displayName": "Gabriel",
      "userId": "00716935472048653558"
     },
     "user_tz": -180
    },
    "id": "7Pgr_jwlk-nx",
    "outputId": "4e6b4b40-a7a3-4b52-d41b-9e87a417b049"
   },
   "outputs": [],
   "source": [
    "english_classes = int(input(\"Number of classes in English: \"))\n",
    "math_classes = int(input(\"Number of classes in Math: \"))\n",
    "english_attended = int(input(\"Number of classes attended in English: \"))\n",
    "math_attended = int(input(\"Number of classes attended in Math: \"))\n",
    "if math_attended >= english_attended:\n",
    "  print(\"Math has a greater attendance\")\n",
    "else:\n",
    "  print(\"English has a greater attendance\")\n",
    "\n",
    "math_attendeded_percentage = math_attended / math_classes * 100\n",
    "english_attendeded_percentage = english_attended / english_classes * 100\n",
    "print(\"Math attendance percentage: \", math_attendeded_percentage)\n",
    "print(\"English attendance percentage: \", english_attendeded_percentage)\n",
    "if (math_attendeded_percentage + english_attendeded_percentage)/2 >= 75:\n",
    "  print(\"The overall attendance percentage is greater than 75%\")\n",
    "# print((math_attendeded_percentage + english_attendeded_percentage)/2)"
   ]
  },
  {
   "cell_type": "markdown",
   "metadata": {
    "id": "mrFcr04k0Qgo"
   },
   "source": [
    "3.    Create a program that simulates a game of dice. Do the following:\n",
    "Ask for a bet\n",
    "Randomly generate two number between 1 and 6\n",
    "Print the winnings as follow:\n",
    "Hard 4 and 10 pays 7:1\n",
    "Hard 6 and 8 pays 9:1\n",
    "Easy 4, 6, 8 and 10, or any 7 loses\n",
    "Everything else, the bet still stands\n",
    "Hardways:\n",
    "Hardway is for 4, 6, 8 or 10, where both dice have the same values\n",
    "A hard 6 is 3 + 3\n",
    "An easy 6 is 2 + 4 or 5 + 1\n",
    "Note:\n",
    "Import random\n",
    "Nr = random.randint(1,6)\n"
   ]
  },
  {
   "cell_type": "code",
   "execution_count": null,
   "metadata": {
    "colab": {
     "base_uri": "https://localhost:8080/"
    },
    "executionInfo": {
     "elapsed": 2525,
     "status": "ok",
     "timestamp": 1752663683338,
     "user": {
      "displayName": "Gabriel",
      "userId": "00716935472048653558"
     },
     "user_tz": -180
    },
    "id": "_lS-37a90SK-",
    "outputId": "9884a97e-b9ce-4d56-f3a7-75cc3afd10f7"
   },
   "outputs": [],
   "source": [
    "bet = int(input(\"Bet: $\"))\n",
    "import random\n",
    "Nr = random.randint(1,6)\n"
   ]
  }
 ],
 "metadata": {
  "colab": {
   "authorship_tag": "ABX9TyN7YO0FDx27m6mtPps2n/Eb",
   "provenance": [],
   "toc_visible": true
  },
  "kernelspec": {
   "display_name": "Python 3",
   "name": "python3"
  },
  "language_info": {
   "codemirror_mode": {
    "name": "ipython",
    "version": 3
   },
   "file_extension": ".py",
   "mimetype": "text/x-python",
   "name": "python",
   "nbconvert_exporter": "python",
   "pygments_lexer": "ipython3",
   "version": "3.13.5"
  }
 },
 "nbformat": 4,
 "nbformat_minor": 0
}
