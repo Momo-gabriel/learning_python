{
 "cells": [
  {
   "cell_type": "markdown",
   "metadata": {
    "id": "IQLm09_5fwbp"
   },
   "source": [
    "E2\n",
    "Have the following tuples: my_tuple_1 = (1, 2, 3, “a”, “b”, 10, “5”) and my_tuple _2 = (7, 5, “b”, “5”, 3).\n",
    " Do the following:\n",
    " Print all the elements from both sets Print all the elements from the 1st set, that are not part of the 2nd Print all the elements from the 2nd set, that are not part of the 1st\n",
    " Get the common elements, unpack them in variables and print them\n",
    " Add the two tuples and print the total number of duplicates Print all the elements from both sets that are NOT common Add an element of your choice to the my_tuple 2 and print the tuple"
   ]
  },
  {
   "cell_type": "code",
   "execution_count": 2,
   "metadata": {
    "colab": {
     "base_uri": "https://localhost:8080/"
    },
    "executionInfo": {
     "elapsed": 6,
     "status": "ok",
     "timestamp": 1752657513850,
     "user": {
      "displayName": "Gabriel",
      "userId": "00716935472048653558"
     },
     "user_tz": -180
    },
    "id": "IsIjt7eVgeqE",
    "outputId": "15e568f4-8727-44d5-e226-5519e4a4cb65"
   },
   "outputs": [
    {
     "name": "stdout",
     "output_type": "stream",
     "text": [
      "All elements: (1, 2, 3, 'a', 'b', 10, '5', 7, 5, 'b', '5', 3)\n",
      "Elements in my_tuple_1 but not in my_tuple_2: (1, 2, 'a', 10)\n",
      "Elements in my_tuple_2 but not in my_tuple_1: (7, 5)\n",
      "Common elements: 3 b 5\n",
      "Number of duplicates: 3\n",
      "Non-common elements: (1, 2, 'a', 10, 7, 5)\n",
      "my_tuple_2 after adding 100: (7, 5, 'b', '5', 3, 100)\n"
     ]
    }
   ],
   "source": [
    "my_tuple_1 = (1, 2, 3, \"a\", \"b\", 10, \"5\")\n",
    "my_tuple_2 = (7, 5, \"b\", \"5\", 3)\n",
    "\n",
    "# Print all elements from both sets\n",
    "print(\"All elements:\", my_tuple_1 + my_tuple_2)\n",
    "\n",
    "# Print elements from my_tuple_1 not in my_tuple_2\n",
    "print(\"Elements in my_tuple_1 but not in my_tuple_2:\", tuple(x for x in my_tuple_1 if x not in my_tuple_2))\n",
    "\n",
    "# Print elements from my_tuple_2 not in my_tuple_1\n",
    "print(\"Elements in my_tuple_2 but not in my_tuple_1:\", tuple(x for x in my_tuple_2 if x not in my_tuple_1))\n",
    "\n",
    "# Get the common elements, unpack and print\n",
    "common_elements = tuple(x for x in my_tuple_1 if x in my_tuple_2)\n",
    "x, y, z = common_elements\n",
    "print(\"Common elements:\", x, y, z)\n",
    "# if common_elements:\n",
    "#     x, y, z = common_elements\n",
    "#     print(\"Common elements:\", x, y, z)\n",
    "# else:\n",
    "#   print(\"No common elements\")\n",
    "\n",
    "# Add the two tuples and print the number of duplicates\n",
    "combined_tuple = my_tuple_1 + my_tuple_2\n",
    "duplicates_count = len(combined_tuple) - len(set(combined_tuple))\n",
    "print(\"Number of duplicates:\", duplicates_count)\n",
    "\n",
    "# Print all elements that are not common\n",
    "print(\"Non-common elements:\", tuple(x for x in combined_tuple if x not in common_elements))\n",
    "\n",
    "# Add an element to my_tuple_2 and print\n",
    "my_tuple_2 = my_tuple_2 + (100,)\n",
    "print(\"my_tuple_2 after adding 100:\", my_tuple_2)"
   ]
  }
 ],
 "metadata": {
  "colab": {
   "authorship_tag": "ABX9TyPexsg/c07pYCLBdXwXA5P+",
   "provenance": []
  },
  "kernelspec": {
   "display_name": "Python 3",
   "name": "python3"
  },
  "language_info": {
   "codemirror_mode": {
    "name": "ipython",
    "version": 3
   },
   "file_extension": ".py",
   "mimetype": "text/x-python",
   "name": "python",
   "nbconvert_exporter": "python",
   "pygments_lexer": "ipython3",
   "version": "3.13.5"
  }
 },
 "nbformat": 4,
 "nbformat_minor": 0
}
