{
 "cells": [
  {
   "cell_type": "markdown",
   "id": "14a84928",
   "metadata": {},
   "source": [
    "1. Write a program that will:\n",
    "\n",
    "a. Ask for an integer\n",
    "\n",
    "b. Print all the numbers, from 0, up to that number\n",
    "\n"
   ]
  },
  {
   "cell_type": "code",
   "execution_count": null,
   "id": "8407bb27",
   "metadata": {},
   "outputs": [],
   "source": [
    "numar = int(input(\"Enter a integer number: \"))\n",
    "print(\"All numbers from 0 to\", numar, \":\")\n",
    "if numar >= 0:\n",
    "    for i in range(0, numar + 1):\n",
    "     print(i)\n",
    "else:\n",
    "    for i in range(0, numar - 1, -1):\n",
    "        print(i)\n",
    "            "
   ]
  },
  {
   "cell_type": "markdown",
   "id": "1b447b3c",
   "metadata": {},
   "source": [
    "2. Write a program that will:\n",
    "\n",
    "a. Ask for an integer\n",
    "\n",
    "b. Print all the numbers between 0 and the given integer, if they are even\n"
   ]
  },
  {
   "cell_type": "code",
   "execution_count": null,
   "id": "abcef7c4",
   "metadata": {},
   "outputs": [],
   "source": [
    "numar = int(input(\"Enter a integer number: \"))\n",
    "print(\"All numbers odd from 0 to\", numar, \":\")\n",
    "if numar >= 0 :\n",
    "    for i in range(0, numar + 1) :\n",
    "        if i % 2 == 0:\n",
    "            print(i)\n",
    "else:\n",
    "    for i in range(0, numar - 1, -1):\n",
    "        if i % 2 == 0:\n",
    "            print(i)"
   ]
  },
  {
   "cell_type": "markdown",
   "id": "de479e34",
   "metadata": {},
   "source": [
    "Write a program that will:\n",
    "\n",
    "a. Ask for an integer\n",
    "\n",
    "b. Iterate through all of them (from 1 to that number)\n",
    "\n",
    "c. If the number is a multiple of 3, print \"Foo\"\n",
    "\n",
    "d. If the number is a multiple of 5, print \"Bar\"\n",
    "\n",
    "e. If it's both, print \"FooBar\"\n",
    "\n",
    "f. Print the rest of the numbers as they are"
   ]
  },
  {
   "cell_type": "code",
   "execution_count": null,
   "id": "97796d08",
   "metadata": {},
   "outputs": [],
   "source": [
    "numar = int(input(\"Enter a integer number: \"))\n",
    "print(\"All numbers from 1 to\", numar, \":\")\n",
    "if numar >= 1 :\n",
    "    for i in range(1, numar + 1):\n",
    "        if i % 3 == 0 and i % 5 == 0:\n",
    "            print(\"FooBar\")\n",
    "        elif i % 3 == 0:\n",
    "            print(\"Foo\")\n",
    "        elif i % 5 == 0:\n",
    "            print(\"Bar\")   \n",
    "        else:\n",
    "            print(i)\n",
    "else:\n",
    "    for i in range(1, numar - 1, -1):\n",
    "        if i % 3 == 0 and i % 5 == 0:\n",
    "            print(\"FooBar\")\n",
    "        elif i % 3 == 0:\n",
    "            print(\"Foo\")\n",
    "        elif i % 5 == 0:\n",
    "            print(\"Bar\")   \n",
    "        else:\n",
    "            print(i)"
   ]
  },
  {
   "cell_type": "markdown",
   "id": "640e8d2b",
   "metadata": {},
   "source": [
    "Write a program that will:\n",
    "\n",
    "a. Ask for a password\n",
    "\n",
    "b. Check if it meets the following requirements:\n",
    "\n",
    "i. At least 1 lowercase and 1 uppercase character\n",
    "\n",
    "ii. At least 1 number\n",
    "\n",
    "At least one special character (e.g. ?, !, #, $ etc.)\n",
    "\n",
    "iv. Minimum length: 6 characters\n",
    "\n",
    "V. Maximum length: 16 characters"
   ]
  },
  {
   "cell_type": "code",
   "execution_count": 1,
   "id": "168d24bb",
   "metadata": {},
   "outputs": [],
   "source": [
    "password = input(\"Enter a password: \")\n",
    "if len(password) < 6:  \n",
    "    print(\"Password must be at least 6 characters long.\")\n",
    "elif len(password) > 16:\n",
    "    print(\"Password must be at most 16 characters long.\")\n",
    "elif not any(char.isupper() for char in password):\n",
    "    print(\"Password must contain at least one uppercase letter.\")\n",
    "elif not any(char.islower() for char in password):\n",
    "    print(\"Password must contain at least one lowercase letter.\")\n",
    "elif not any(char.isdigit() for char in password):\n",
    "    print(\"Password must contain at least one digit.\")\n",
    "elif not any(char in \"!@#$%^&*()-_=+[]{}|;:,.<>?/\" for char in password):\n",
    "    print(\"Password must contain at least one special character.\")\n",
    "else:\n",
    "    print(\"Password is valid.\")\n",
    "    "
   ]
  },
  {
   "cell_type": "markdown",
   "id": "a7f36be3",
   "metadata": {},
   "source": [
    " Write a program that will:\n",
    "\n",
    "a. Ask for a number\n",
    "\n",
    "b. Print all prime numbers from 0 up to the given number"
   ]
  },
  {
   "cell_type": "code",
   "execution_count": null,
   "id": "8eec9340",
   "metadata": {},
   "outputs": [],
   "source": [
    "numar = int(input(\"Enter a number: \"))\n",
    "print(\"Prime numbers from 0 to\", numar, \":\")\n",
    "for i in range(2, numar + 1):\n",
    "    is_prime = True\n",
    "    for j in range(2, int(i ** 0.5) + 1):\n",
    "        if i % j == 0:\n",
    "            is_prime = False\n",
    "            break\n",
    "    if is_prime:\n",
    "        print(i)"
   ]
  }
 ],
 "metadata": {
  "kernelspec": {
   "display_name": "Python 3",
   "language": "python",
   "name": "python3"
  },
  "language_info": {
   "codemirror_mode": {
    "name": "ipython",
    "version": 3
   },
   "file_extension": ".py",
   "mimetype": "text/x-python",
   "name": "python",
   "nbconvert_exporter": "python",
   "pygments_lexer": "ipython3",
   "version": "3.13.5"
  }
 },
 "nbformat": 4,
 "nbformat_minor": 5
}
